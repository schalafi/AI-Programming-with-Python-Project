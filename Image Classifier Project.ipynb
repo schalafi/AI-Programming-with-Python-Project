{
 "cells": [
  {
   "cell_type": "markdown",
   "metadata": {},
   "source": [
    "## Prepare the workspace"
   ]
  },
  {
   "cell_type": "code",
   "execution_count": null,
   "metadata": {},
   "outputs": [],
   "source": [
    "# Before you proceed, update the PATH\n",
    "import os\n",
    "\n",
    "# Configuration for udacity workspace\n",
    "#os.environ['PATH'] = f\"{os.environ['PATH']}:/root/.local/bin\"\n",
    "#os.environ['PATH'] = f\"{os.environ['PATH']}:/opt/conda/lib/python3.6/site-packages\"\n",
    "# Restart the Kernel at this point. "
   ]
  },
  {
   "cell_type": "code",
   "execution_count": null,
   "metadata": {},
   "outputs": [],
   "source": [
    "# Do not execute the commands below unless you have restart the Kernel after updating the PATH. \n",
    "# Configuration for udacity workspace\n",
    "#!python -m pip install torch==1.0.0"
   ]
  },
  {
   "cell_type": "code",
   "execution_count": null,
   "metadata": {},
   "outputs": [],
   "source": [
    "# Check torch version and CUDA status if GPU is enabled.\n",
    "import torch\n",
    "print(torch.__version__)\n",
    "print(torch.cuda.is_available()) # Should return True when GPU is enabled. "
   ]
  },
  {
   "cell_type": "markdown",
   "metadata": {},
   "source": [
    "# Developing an AI application\n",
    "\n",
    "Going forward, AI algorithms will be incorporated into more and more everyday applications. For example, you might want to include an image classifier in a smart phone app. To do this, you'd use a deep learning model trained on hundreds of thousands of images as part of the overall application architecture. A large part of software development in the future will be using these types of models as common parts of applications. \n",
    "\n",
    "In this project, you'll train an image classifier to recognize different species of flowers. You can imagine using something like this in a phone app that tells you the name of the flower your camera is looking at. In practice you'd train this classifier, then export it for use in your application. We'll be using [this dataset](http://www.robots.ox.ac.uk/~vgg/data/flowers/102/index.html) of 102 flower categories, you can see a few examples below. \n",
    "\n",
    "<img src='assets/Flowers.png' width=500px>\n",
    "\n",
    "The project is broken down into multiple steps:\n",
    "\n",
    "* Load and preprocess the image dataset\n",
    "* Train the image classifier on your dataset\n",
    "* Use the trained classifier to predict image content\n",
    "\n",
    "We'll lead you through each part which you'll implement in Python.\n",
    "\n",
    "When you've completed this project, you'll have an application that can be trained on any set of labeled images. Here your network will be learning about flowers and end up as a command line application. But, what you do with your new skills depends on your imagination and effort in building a dataset. For example, imagine an app where you take a picture of a car, it tells you what the make and model is, then looks up information about it. Go build your own dataset and make something new.\n",
    "\n",
    "First up is importing the packages you'll need. It's good practice to keep all the imports at the beginning of your code. As you work through this notebook and find you need to import a package, make sure to add the import up here."
   ]
  },
  {
   "cell_type": "code",
   "execution_count": null,
   "metadata": {},
   "outputs": [],
   "source": [
    "# Imports here\n",
    "import time\n",
    "\n",
    "import torch as th \n",
    "from torch.utils.data import DataLoader\n",
    "from torchvision import datasets\n",
    "#using the newest transforms from version 2\n",
    "from torchvision.transforms import v2\n"
   ]
  },
  {
   "cell_type": "markdown",
   "metadata": {},
   "source": [
    "## Load the data\n",
    "\n",
    "Here you'll use `torchvision` to load the data ([documentation](http://pytorch.org/docs/0.3.0/torchvision/index.html)). The data should be included alongside this notebook, otherwise you can [download it here](https://s3.amazonaws.com/content.udacity-data.com/nd089/flower_data.tar.gz). "
   ]
  },
  {
   "cell_type": "markdown",
   "metadata": {},
   "source": [
    "If you do not find the `flowers/` dataset in the current directory, **/workspace/home/aipnd-project/**, you can download it using the following commands. \n",
    "\n",
    "```bash\n",
    "!wget 'https://s3.amazonaws.com/content.udacity-data.com/nd089/flower_data.tar.gz'\n",
    "!unlink flowers\n",
    "!mkdir flowers && tar -xzf flower_data.tar.gz -C flowers\n",
    "```\n"
   ]
  },
  {
   "cell_type": "code",
   "execution_count": null,
   "metadata": {},
   "outputs": [],
   "source": [
    "#!ls\n",
    "#!rm flower_data.tar.gz"
   ]
  },
  {
   "cell_type": "code",
   "execution_count": null,
   "metadata": {},
   "outputs": [],
   "source": [
    "#!wget 'https://s3.amazonaws.com/content.udacity-data.com/nd089/flower_data.tar.gz'"
   ]
  },
  {
   "cell_type": "markdown",
   "metadata": {},
   "source": [
    "## Data Description\n",
    "The dataset is split into three parts, training, validation, and testing. For the training, you'll want to apply transformations such as random scaling, cropping, and flipping. This will help the network generalize leading to better performance. You'll also need to make sure the input data is resized to 224x224 pixels as required by the pre-trained networks.\n",
    "\n",
    "The validation and testing sets are used to measure the model's performance on data it hasn't seen yet. For this you don't want any scaling or rotation transformations, but you'll need to resize then crop the images to the appropriate size.\n",
    "\n",
    "The pre-trained networks you'll use were trained on the ImageNet dataset where each color channel was normalized separately. For all three sets you'll need to normalize the means and standard deviations of the images to what the network expects. For the means, it's `[0.485, 0.456, 0.406]` and for the standard deviations `[0.229, 0.224, 0.225]`, calculated from the ImageNet images.  These values will shift each color channel to be centered at 0 and range from -1 to 1.\n",
    " "
   ]
  },
  {
   "cell_type": "code",
   "execution_count": null,
   "metadata": {},
   "outputs": [],
   "source": [
    "data_dir = 'flowers'\n",
    "train_dir = data_dir + '/train'\n",
    "valid_dir = data_dir + '/valid'\n",
    "test_dir = data_dir + '/test'"
   ]
  },
  {
   "cell_type": "code",
   "execution_count": null,
   "metadata": {},
   "outputs": [],
   "source": [
    "BATCH_SIZE = 32"
   ]
  },
  {
   "cell_type": "code",
   "execution_count": null,
   "metadata": {},
   "outputs": [],
   "source": [
    "# TODO: Define your transforms for the training, validation, and testing sets\n",
    "#data_transforms = transforms.Compose(\n",
    "#    [transforms.Resize(224),\n",
    "#      transforms.CenterCrop(224)\n",
    "#      transforms.ToTensor()\n",
    "#      ]\n",
    "# )\n",
    "\n",
    "train_transforms = v2.Compose([\n",
    "    #Data augmentation with transformations\n",
    "    v2.RandomRotation(degrees =(0,180)),\n",
    "    v2.RandomResizedCrop((224,224)),\n",
    "    v2.RandomPerspective(distortion_scale=0.6,\n",
    "                          p=0.2), #probability for applying it\n",
    "    v2.RandomAffine(degrees=(30, 70),\n",
    "                    translate=(0.1, 0.3),\n",
    "                    scale=(0.5, 1.1)),\n",
    "    v2.RandomHorizontalFlip(),\n",
    "    v2.ToTensor(),\n",
    "    v2.Normalize(\n",
    "        mean=[0.485, 0.456, 0.406],\n",
    "        std = [0.229, 0.224, 0.225]\n",
    "     )\n",
    "     ])\n",
    "\n",
    "# Do not use data augmentation transformations\n",
    "valid_transforms = v2.Compose([\n",
    "    v2.Resize((224,224)),\n",
    "    v2.ToTensor(),\n",
    "    v2.Normalize(\n",
    "        mean= [0.485, 0.456, 0.406],\n",
    "        std = [0.229, 0.224, 0.225]\n",
    "    )\n",
    "])\n",
    "\n",
    "# Do not use data augmentation transformations\n",
    "test_transforms = v2.Compose([\n",
    "    v2.Resize((224,224)),\n",
    "    v2.ToTensor(),\n",
    "    v2.Normalize(\n",
    "        mean= [0.485, 0.456, 0.406],\n",
    "        std = [0.229, 0.224, 0.225]\n",
    "    )]\n",
    ")\n",
    "\n",
    "\n",
    "# TODO: Load the datasets with ImageFolder\n",
    "#image_datasets = datasets.ImageFolder()\n",
    "train_dataset = datasets.ImageFolder(\n",
    "    root = train_dir,\n",
    "    transform = train_transforms\n",
    ")\n",
    "\n",
    "valid_dataset = datasets.ImageFolder(\n",
    "    root = valid_dir,\n",
    "    transform=valid_transforms\n",
    ")\n",
    "\n",
    "test_dataset = datasets.ImageFolder(\n",
    "    root = test_dir,\n",
    "    transform = test_transforms\n",
    ")\n",
    "\n",
    "\n",
    "# TODO: Using the image datasets and the trainforms, define the dataloaders\n",
    "#dataloaders = \n",
    "train_dataloader = DataLoader(\n",
    "    train_dataset,\n",
    "    batch_size=BATCH_SIZE,\n",
    "    shuffle= True, # Shuffle only for training\n",
    "    )\n",
    "\n",
    "valid_dataloader = DataLoader(\n",
    "    valid_dataset,\n",
    "    batch_size=BATCH_SIZE\n",
    ")\n",
    "\n",
    "test_dataloader = DataLoader(\n",
    "    test_dataset,\n",
    "    batch_size=BATCH_SIZE\n",
    ")\n"
   ]
  },
  {
   "cell_type": "markdown",
   "metadata": {},
   "source": [
    "### Get a data sample "
   ]
  },
  {
   "cell_type": "code",
   "execution_count": null,
   "metadata": {},
   "outputs": [],
   "source": [
    "data_iter = iter(train_dataloader)\n",
    "#Get a batch of data\n",
    "#images (batch_sizex3x224x224) Tensor of images\n",
    "#labels (batch_size) A vector \n",
    "images,labels = next(data_iter)\n",
    "\n",
    "print(\"Sample shapes: \",images.shape, labels.shape )"
   ]
  },
  {
   "cell_type": "code",
   "execution_count": null,
   "metadata": {},
   "outputs": [],
   "source": [
    "print('Number of training examples: ', len(train_dataset))\n",
    "print('Number of validation examples: ', len(valid_dataset))\n",
    "print('Number of test examples: ', len(test_dataset))"
   ]
  },
  {
   "cell_type": "code",
   "execution_count": null,
   "metadata": {},
   "outputs": [],
   "source": [
    "def print_data_shape(dataloader,name = 'train'):\n",
    "    X,y = next(iter(dataloader))\n",
    "    print(name.capitalize() + ' info:')\n",
    "    print(\"Input Features (X):\")\n",
    "    print(\"Batch size: \", X.shape[0])\n",
    "    print(\"Shape: \", X.shape)\n",
    "    print('Labels (y): ')\n",
    "    print(\"Shape: \", y.shape)\n",
    "    print()"
   ]
  },
  {
   "cell_type": "code",
   "execution_count": null,
   "metadata": {},
   "outputs": [],
   "source": [
    "# Get a batch of the data next(iter(train_dataloader))\n",
    "print_data_shape(dataloader = train_dataloader,name = 'train')\n",
    "\n",
    "print_data_shape(dataloader = valid_dataloader,name = 'valid')\n",
    "\n",
    "print_data_shape(dataloader = test_dataloader,name = 'test')\n",
    "\n"
   ]
  },
  {
   "cell_type": "markdown",
   "metadata": {},
   "source": [
    "### Label mapping\n",
    "\n",
    "You'll also need to load in a mapping from category label to category name. You can find this in the file `cat_to_name.json`. It's a JSON object which you can read in with the [`json` module](https://docs.python.org/2/library/json.html). This will give you a dictionary mapping the integer encoded categories to the actual names of the flowers."
   ]
  },
  {
   "cell_type": "code",
   "execution_count": null,
   "metadata": {},
   "outputs": [],
   "source": [
    "import json\n",
    "\n",
    "with open('cat_to_name.json', 'r') as f:\n",
    "    cat_to_name = json.load(f)"
   ]
  },
  {
   "cell_type": "code",
   "execution_count": null,
   "metadata": {},
   "outputs": [],
   "source": [
    "cat_to_name"
   ]
  },
  {
   "cell_type": "markdown",
   "metadata": {},
   "source": [
    "# Building and training the classifier\n",
    "\n",
    "Now that the data is ready, it's time to build and train the classifier. As usual, you should use one of the pretrained models from `torchvision.models` to get the image features. Build and train a new feed-forward classifier using those features.\n",
    "\n",
    "We're going to leave this part up to you. Refer to [the rubric](https://review.udacity.com/#!/rubrics/1663/view) for guidance on successfully completing this section. Things you'll need to do:\n",
    "\n",
    "* Load a [pre-trained network](http://pytorch.org/docs/master/torchvision/models.html) (If you need a starting point, the VGG networks work great and are straightforward to use)\n",
    "* Define a new, untrained feed-forward network as a classifier, using ReLU activations and dropout\n",
    "* Train the classifier layers using backpropagation using the pre-trained network to get the features\n",
    "* Track the loss and accuracy on the validation set to determine the best hyperparameters\n",
    "\n",
    "We've left a cell open for you below, but use as many as you need. Our advice is to break the problem up into smaller parts you can run separately. Check that each part is doing what you expect, then move on to the next. You'll likely find that as you work through each part, you'll need to go back and modify your previous code. This is totally normal!\n",
    "\n",
    "When training make sure you're updating only the weights of the feed-forward network. You should be able to get the validation accuracy above 70% if you build everything right. Make sure to try different hyperparameters (learning rate, units in the classifier, epochs, etc) to find the best model. Save those hyperparameters to use as default values in the next part of the project.\n",
    "\n",
    "One last important tip if you're using the workspace to run your code: To avoid having your workspace disconnect during the long-running tasks in this notebook, please read in the earlier page in this lesson called Intro to\n",
    "GPU Workspaces about Keeping Your Session Active. You'll want to include code from the workspace_utils.py module.\n",
    "\n",
    "## Note for Workspace users: \n",
    "If your network is over 1 GB when saved as a checkpoint, there might be issues with saving backups in your workspace. Typically this happens with wide dense layers after the convolutional layers. If your saved checkpoint is larger than 1 GB (you can open a terminal and check with `ls -lh`), you should reduce the size of your hidden layers and train again."
   ]
  },
  {
   "cell_type": "code",
   "execution_count": null,
   "metadata": {},
   "outputs": [],
   "source": [
    "# TODO: Build and train your network"
   ]
  },
  {
   "cell_type": "markdown",
   "metadata": {},
   "source": [
    "### Load DenseNet with pretrained weights"
   ]
  },
  {
   "cell_type": "code",
   "execution_count": null,
   "metadata": {},
   "outputs": [],
   "source": [
    "from torchvision import models\n",
    "# Load pretrained network\n",
    "model = models.densenet121(weights = models.DenseNet121_Weights)\n",
    "print(model)"
   ]
  },
  {
   "cell_type": "markdown",
   "metadata": {},
   "source": [
    "### Define device"
   ]
  },
  {
   "cell_type": "code",
   "execution_count": null,
   "metadata": {},
   "outputs": [],
   "source": [
    "device = th.device( 'cuda' if  th.cuda.is_available() else 'cpu')\n",
    "print(\"Device: \", device)"
   ]
  },
  {
   "cell_type": "markdown",
   "metadata": {},
   "source": [
    "### Move model to device\n"
   ]
  },
  {
   "cell_type": "code",
   "execution_count": null,
   "metadata": {},
   "outputs": [],
   "source": [
    "model = model.to(device)"
   ]
  },
  {
   "cell_type": "markdown",
   "metadata": {},
   "source": [
    "### Freeze the weights of the model\n",
    "\n",
    "We only need to train the last layers (the classifier)"
   ]
  },
  {
   "cell_type": "code",
   "execution_count": null,
   "metadata": {},
   "outputs": [],
   "source": [
    "# Turn off gradient computation on pretrained network\n",
    "for param in model.parameters():\n",
    "    param.requires_grad = False "
   ]
  },
  {
   "cell_type": "markdown",
   "metadata": {},
   "source": [
    "#### Get the number of classes\n"
   ]
  },
  {
   "cell_type": "code",
   "execution_count": null,
   "metadata": {},
   "outputs": [],
   "source": [
    "classes_names = train_dataset.classes\n",
    "num_classes =  len(classes_names)\n",
    "print(\"Number of classes: \", num_classes)"
   ]
  },
  {
   "cell_type": "markdown",
   "metadata": {},
   "source": [
    "### Replace the clasifier (last layer ) with a new one\n",
    "we use a new neural network (untrained), wich is the last module of the entire model and is the only part of the entire network that will be train to classify our flowers."
   ]
  },
  {
   "cell_type": "code",
   "execution_count": null,
   "metadata": {},
   "outputs": [],
   "source": [
    "model.classifier = th.nn.Sequential(\n",
    "    th.nn.Dropout(p=0.3),\n",
    "    th.nn.Linear(in_features=1024,\n",
    "                    out_features=512,\n",
    "                    bias = True),\n",
    "    th.nn.ReLU(),\n",
    "    th.nn.Dropout(p=0.2),\n",
    "    th.nn.Linear(in_features =512,\n",
    "                 out_features=num_classes,\n",
    "                 bias = True),\n",
    "    th.nn.LogSoftmax(dim = 1)).to(device)\n",
    "\n",
    "print(\"Classifier (trainable layers): \", model.classifier)\n"
   ]
  },
  {
   "cell_type": "code",
   "execution_count": null,
   "metadata": {},
   "outputs": [],
   "source": [
    "def train_step(model: th.nn.Module,\n",
    "          dataloader: th.utils.data.DataLoader,\n",
    "          criterion: th.nn.Module,\n",
    "          optimizer: th.optim.Optimizer,\n",
    "          device: th.device) -> None:\n",
    "    \"\"\"\n",
    "    Receive a model, train it with the given optimizer\n",
    "    by ONE epoch,\n",
    "    using the `criterion` function to measure the performance of the model.\n",
    "    The model will be trained on the `train_dataloader` and\n",
    "    evaluated on the `valid_dataloader` during each epoch.\n",
    "    The function will return the trained model.\n",
    "    \n",
    "    Args:\n",
    "        model: The model to train.\n",
    "        train_dataloader: The training data.\n",
    "        criterion: The loss function.\n",
    "        optimizer: The optimizer to use.\n",
    "        device: The device to use.\n",
    "    Model weigths are changed in place\n",
    "    \n",
    "    Returns:\n",
    "    loss_value, accuracy \n",
    "        \n",
    "    \"\"\"\n",
    "    \n",
    "    # set model to train mode \n",
    "    model.train()\n",
    "\n",
    "    # init \n",
    "    loss_value,accuracy = 0,0\n",
    "    \n",
    "    #start time \n",
    "    t0 = time.time()\n",
    "\n",
    "    #Iterate over the pairs (X_i,y_i) (features, labels)\n",
    "    for i, (X,y) in enumerate(dataloader):\n",
    "        #if i >= 10:\n",
    "        #    break\n",
    "        #move the data to device\n",
    "        #must be on the same device that model\n",
    "        features,labels = X.to(device),y.to(device)\n",
    "        \n",
    "        # apply forward propagation\n",
    "        # outputs is the log probabilities\n",
    "        outputs = model(features)\n",
    "\n",
    "        # compute loss\n",
    "        loss= criterion(outputs, labels)\n",
    "\n",
    "        # loss_value is a number\n",
    "        batch_loss = loss.item()\n",
    "        loss_value+=  batch_loss\n",
    "\n",
    "        # reset gradient accumulation\n",
    "        # gradient tensors to 0\n",
    "        optimizer.zero_grad()\n",
    "\n",
    "        # compute gradients\n",
    "        loss.backward()\n",
    "\n",
    "        # update params. \n",
    "        # apply gradient descent\n",
    "        optimizer.step()\n",
    "\n",
    "        # Get the classes predicted by the model\n",
    "        # logits -> classes \n",
    "        predicted_classes = th.argmax(\n",
    "            th.softmax(outputs,dim = 1),\n",
    "            dim= 1 \n",
    "        )\n",
    "        \n",
    "        # Compute accuracy\n",
    "        # log probabilities -> probabilities\n",
    "        probs = torch.exp(outputs)\n",
    "\n",
    "        # get the topk biggest values from probs\n",
    "        # values, indices = probs.topk(k=5, dim=1)  \n",
    "        # we get top probability, top class (index)\n",
    "        top_p, top_class = probs.topk(k=1, dim=1)\n",
    "\n",
    "        # compare the predicted class (top_class) and the actual classes (labels)\n",
    "        # transform (get a view) the labels into the shape of top class\n",
    "        equals = top_class == labels.view(*top_class.shape)\n",
    "        #train_accuracy += th.mean(equals.type(th.FloatTensor)).item()\n",
    "        accuracy += th.mean(equals.type(th.float)).item()\n",
    "        \n",
    "    loss_value = loss_value / len(dataloader)\n",
    "    # print a message in green color 'New epoch completed!'\n",
    "    \n",
    "    accuracy = accuracy / len(dataloader)\n",
    "    print('\\033[102m' + 'New epoch completed!' + '\\033[0m')\n",
    "    print(f'Training Loss: {loss_value:.3f}.. ')\n",
    "    print(f'Training Accuracy: {100.0*accuracy:.3f}.. ')\n",
    "    print(f'Time Elapsed: {time.time() - t0:.3f}.. ')\n",
    "    print()    \n",
    "\n",
    "    return loss_value, accuracy "
   ]
  },
  {
   "cell_type": "code",
   "execution_count": null,
   "metadata": {},
   "outputs": [],
   "source": [
    "def validation_step(model: th.nn.Module,\n",
    "          dataloader: th.utils.data.DataLoader,\n",
    "          criterion: th.nn.Module,\n",
    "          device: th.device) -> None:\n",
    "    \"\"\"\n",
    "    Receive a model, run it  to validate on the given data.\n",
    "    Use one epoch over the dataset on dataloader.\n",
    "    The function will return accuracy and loss on the dataset\n",
    "    \n",
    "    Args:\n",
    "        model: The model to train.\n",
    "        train_dataloader: The training data.\n",
    "        valid_dataloader: The validation data.\n",
    "        criterion: The loss function.\n",
    "        device: The device to use.\n",
    "    \n",
    "    Returns:\n",
    "        loss_value, accuracy \n",
    "    \"\"\"\n",
    "    # set model to evaluation mode\n",
    "    #turn off gradient computation\n",
    "    model.eval()\n",
    "\n",
    "    # init \n",
    "    loss_value,accuracy = 0,0\n",
    "    \n",
    "    #start time \n",
    "    t0 = time.time()\n",
    "\n",
    "    #Iterate over the pairs (X_i,y_i) (features, labels)\n",
    "    for i, (X,y) in enumerate(dataloader):\n",
    "        #if i >= 10:\n",
    "        #    break\n",
    "        #move the data to device\n",
    "        #must be on the same device that model\n",
    "        features,labels = X.to(device),y.to(device)\n",
    "        \n",
    "        # apply forward propagation\n",
    "        # outputs is the log probabilities\n",
    "        outputs = model(features)\n",
    "\n",
    "        # compute loss\n",
    "        loss= criterion(outputs, labels)\n",
    "\n",
    "        # the loss_value is a number\n",
    "        batch_loss = loss.item()\n",
    "        loss_value+=  batch_loss\n",
    "\n",
    "        # Get the classes predicted by the model\n",
    "        # logits -> classes \n",
    "        predicted_classes = th.argmax(\n",
    "            th.softmax(outputs,dim = 1),\n",
    "            dim= 1 \n",
    "        )\n",
    "        \n",
    "        # Compute accuracy\n",
    "        # log probabilities -> probabilities\n",
    "        probs = torch.exp(outputs)\n",
    "\n",
    "        # get the topk biggest values from probs\n",
    "        # values, indices = probs.topk(k=5, dim=1)  \n",
    "        # we get top probability, top class (index)\n",
    "        top_p, top_class = probs.topk(k=1, dim=1)\n",
    "\n",
    "        # compare the predicted class (top_class) and the actual classes (labels)\n",
    "        # transform (get a view) the labels into the shape of top class\n",
    "        equals = top_class == labels.view(*top_class.shape)\n",
    "        #train_accuracy += th.mean(equals.type(th.FloatTensor)).item()\n",
    "        accuracy += th.mean(equals.type(th.float)).item()\n",
    "        \n",
    "    loss_value = loss_value / len(dataloader)\n",
    "    accuracy = accuracy / len(dataloader)\n",
    "\n",
    "    print('\\033[102m' + 'New validation epoch completed!' + '\\033[0m')\n",
    "    print(f'Validation Loss: {loss_value:.3f}.. ')\n",
    "    print(f'Validation Accuracy: {100.0*accuracy:.3f}.. ')\n",
    "    print(f'Time Elapsed: {time.time() - t0:.3f}.. ')\n",
    "    print()    \n",
    "\n",
    "    return loss_value, accuracy \n"
   ]
  },
  {
   "cell_type": "markdown",
   "metadata": {},
   "source": [
    "#### Use Negative Log Losss NLL\n",
    "https://pytorch.org/docs/stable/generated/torch.nn.NLLLoss.html#torch.nn.NLLLoss"
   ]
  },
  {
   "cell_type": "code",
   "execution_count": null,
   "metadata": {},
   "outputs": [],
   "source": [
    "criterion = th.nn.NLLLoss()\n",
    "\n",
    "optimizer = th.optim.Adam(\n",
    "    #Only pass classifier params\n",
    "    model.classifier.parameters(),\n",
    "    lr = 0.001\n",
    ")"
   ]
  },
  {
   "cell_type": "code",
   "execution_count": null,
   "metadata": {},
   "outputs": [],
   "source": [
    "torch.autograd.set_detect_anomaly(True)\n",
    "\"\"\"train_step(model = model ,\n",
    "      dataloader = train_dataloader,\n",
    "      criterion = criterion,\n",
    "      optimizer = optimizer,\n",
    "      device = device)\"\"\""
   ]
  },
  {
   "cell_type": "code",
   "execution_count": null,
   "metadata": {},
   "outputs": [],
   "source": [
    "\"\"\"validation_step(model = model ,\n",
    "      dataloader = valid_dataloader,\n",
    "      criterion = criterion,\n",
    "      device = device)\n",
    "\"\"\""
   ]
  },
  {
   "cell_type": "code",
   "execution_count": null,
   "metadata": {},
   "outputs": [],
   "source": [
    "def train(model: th.nn.Module,\n",
    "          train_dataloader: th.utils.data.DataLoader,\n",
    "          valid_dataloader: th.utils.data.DataLoader,\n",
    "          criterion: th.nn.Module,\n",
    "          optimizer: th.optim.Optimizer,\n",
    "          device: th.device, \n",
    "          epochs : int) -> None:\n",
    "    \"\"\"\n",
    "    Receive a model, train it with the given optimizer\n",
    "    by ONE epoch, and evelate the model.\n",
    "    using the `criterion` function to measure the performance of the model.\n",
    "    The model will be trained on the `train_dataloader` and\n",
    "    evaluated on the `valid_dataloader` during each epoch.\n",
    "    The function will return the trained model.\n",
    "    \n",
    "    Args:\n",
    "        model: The model to train.\n",
    "        train_dataloader: The training data.\n",
    "        valid_dataloader: The validation data.\n",
    "        criterion: The loss function.\n",
    "        optimizer: The optimizer to use.\n",
    "        device: The device to use.\n",
    "        epochs: the number of epochs to train\n",
    "    Model weigths are changed in place\n",
    "    \n",
    "    Returns:\n",
    "    loss_value, accuracy \n",
    "        \n",
    "    \"\"\"\n",
    "\n",
    "    # Collect loss and accuracy \n",
    "    train_losses, train_accuracies = [],[]\n",
    "    valid_losses, valid_accuracies = [],[]\n",
    "\n",
    "    print(\"\\033[92m{}\\033[00m\".format(\"Starting training . . . \") )\n",
    "    print(\"Number of epochs: \" ,epochs)\n",
    "    print(\"Device: \",device )\n",
    "    print(\"Criterion: \", criterion)\n",
    "    print(\"Optimizaer: \", optimizer)\n",
    "\n",
    "    for epoch in range(epochs):\n",
    "      print(\"\\033[94m {}\\033[00m\".format(\"Epoch: \" + str(epoch)))\n",
    "          \n",
    "      train_loss, train_accuracy = train_step(model = model ,\n",
    "        dataloader = train_dataloader,\n",
    "        criterion = criterion,\n",
    "        optimizer = optimizer,\n",
    "        device = device)\n",
    "      print(\"TRAIN LOSS, TRAIN ACCURACCY:\", train_loss,train_accuracy)\n",
    "      train_losses.append(train_loss)\n",
    "      train_accuracies.append(train_accuracy)\n",
    "      \n",
    "      valid_loss, valid_accuracy = validation_step(model = model ,\n",
    "        dataloader = valid_dataloader,\n",
    "        criterion = criterion,\n",
    "        device = device)\n",
    "      valid_losses.append(valid_loss)\n",
    "      valid_accuracies.append(valid_accuracy)\n",
    "      \n",
    "      print()\n",
    "      "
   ]
  },
  {
   "cell_type": "code",
   "execution_count": null,
   "metadata": {},
   "outputs": [],
   "source": [
    "\"\"\"\n",
    "train(model,\n",
    "        train_dataloader,\n",
    "        valid_dataloader,\n",
    "        criterion,\n",
    "        optimizer,\n",
    "        device, \n",
    "        epochs = 2)\n",
    "\"\"\""
   ]
  },
  {
   "cell_type": "markdown",
   "metadata": {},
   "source": [
    "## Testing your network\n",
    "\n",
    "It's good practice to test your trained network on test data, images the network has never seen either in training or validation. This will give you a good estimate for the model's performance on completely new images. Run the test images through the network and measure the accuracy, the same way you did validation. You should be able to reach around 70% accuracy on the test set if the model has been trained well."
   ]
  },
  {
   "cell_type": "code",
   "execution_count": null,
   "metadata": {},
   "outputs": [],
   "source": [
    "# TODO: Do validation on the test set\n",
    "\n",
    "\"\"\"\n",
    "validation_step(\n",
    "    model = model ,\n",
    "    dataloader = test_dataloader,\n",
    "    criterion = criterion,\n",
    "    device = device)\n",
    "\"\"\" "
   ]
  },
  {
   "cell_type": "markdown",
   "metadata": {},
   "source": [
    "## Save the checkpoint\n",
    "\n",
    "Now that your network is trained, save the model so you can load it later for making predictions. You probably want to save other things such as the mapping of classes to indices which you get from one of the image datasets: `image_datasets['train'].class_to_idx`. You can attach this to the model as an attribute which makes inference easier later on.\n",
    "\n",
    "```model.class_to_idx = image_datasets['train'].class_to_idx```\n",
    "\n",
    "Remember that you'll want to completely rebuild the model later so you can use it for inference. Make sure to include any information you need in the checkpoint. If you want to load the model and keep training, you'll want to save the number of epochs as well as the optimizer state, `optimizer.state_dict`. You'll likely want to use this trained model in the next part of the project, so best to save it now."
   ]
  },
  {
   "cell_type": "code",
   "execution_count": null,
   "metadata": {},
   "outputs": [],
   "source": [
    "# save class mapping on the model itself as an attribute\n",
    "model.class_to_idx = train_dataset.class_to_idx"
   ]
  },
  {
   "cell_type": "code",
   "execution_count": null,
   "metadata": {},
   "outputs": [],
   "source": [
    "# TODO: Save the checkpoint \n",
    "\n",
    "def save_checkpoint(model, optimizer, epoch, loss, PATH):\n",
    "    \"\"\"\n",
    "    Save a checkpoint of a PyTorch model for inference or resuming training.\n",
    "\n",
    "    Args:\n",
    "        model (torch.nn.Module): The PyTorch model to be saved.\n",
    "        optimizer (torch.optim.Optimizer): The optimizer used for training the model.\n",
    "        epoch (int): Number of epochs model has been trained.\n",
    "        loss (float): The current training loss.\n",
    "        PATH (str): The file path to save the checkpoint.\n",
    "\n",
    "    Returns:\n",
    "        None\n",
    "    \"\"\"\n",
    "    checkpoint = {\n",
    "        'epoch': epoch,\n",
    "        'model_state_dict': model.state_dict(),\n",
    "        'optimizer_state_dict': optimizer.state_dict(),\n",
    "        'loss': loss,\n",
    "    }\n",
    "    torch.save(checkpoint, PATH)\n",
    "\n"
   ]
  },
  {
   "cell_type": "markdown",
   "metadata": {},
   "source": [
    "## Loading the checkpoint\n",
    "\n",
    "At this point it's good to write a function that can load a checkpoint and rebuild the model. That way you can come back to this project and keep working on it without having to retrain the network."
   ]
  },
  {
   "cell_type": "code",
   "execution_count": null,
   "metadata": {},
   "outputs": [],
   "source": [
    "# TODO: Write a function that loads a checkpoint and rebuilds the model\n",
    "\n",
    "def load_checkpoint(model, optimizer, PATH, device=None):\n",
    "    \"\"\"\n",
    "    Load a checkpoint of a PyTorch model.\n",
    "\n",
    "    Args:\n",
    "        model (torch.nn.Module): The PyTorch model to load the checkpoint into.\n",
    "        optimizer (torch.optim.Optimizer): The optimizer to load the checkpoint's optimizer state.\n",
    "        PATH (str): The file path of the saved checkpoint.\n",
    "        device (torch.device, optional): The target device to load the model (e.g., 'cuda' or 'cpu').\n",
    "\n",
    "    Returns:\n",
    "        epoch (int): The epoch at which training was left off.\n",
    "        loss (float): The training loss at the checkpoint.\n",
    "    \"\"\"\n",
    "    if device is None:\n",
    "        device = torch.device('cuda' if torch.cuda.is_available() else 'cpu')\n",
    "\n",
    "    checkpoint = torch.load(PATH, map_location=device)\n",
    "    model.load_state_dict(checkpoint['model_state_dict'])\n",
    "    optimizer.load_state_dict(checkpoint['optimizer_state_dict'])\n",
    "    epoch = checkpoint['epoch']\n",
    "    loss = checkpoint['loss']\n",
    "\n",
    "    # Ensure the model is on the correct device\n",
    "    model.to(device)\n",
    "\n",
    "    return epoch, loss\n"
   ]
  },
  {
   "cell_type": "markdown",
   "metadata": {},
   "source": [
    "# Inference for classification\n",
    "\n",
    "Now you'll write a function to use a trained network for inference. That is, you'll pass an image into the network and predict the class of the flower in the image. Write a function called `predict` that takes an image and a model, then returns the top $K$ most likely classes along with the probabilities. It should look like \n",
    "\n",
    "```python\n",
    "probs, classes = predict(image_path, model)\n",
    "print(probs)\n",
    "print(classes)\n",
    "> [ 0.01558163  0.01541934  0.01452626  0.01443549  0.01407339]\n",
    "> ['70', '3', '45', '62', '55']\n",
    "```\n",
    "\n",
    "First you'll need to handle processing the input image such that it can be used in your network. \n",
    "\n",
    "## Image Preprocessing\n",
    "\n",
    "You'll want to use `PIL` to load the image ([documentation](https://pillow.readthedocs.io/en/latest/reference/Image.html)). It's best to write a function that preprocesses the image so it can be used as input for the model. This function should process the images in the same manner used for training. \n",
    "\n",
    "First, resize the images where the shortest side is 256 pixels, keeping the aspect ratio. This can be done with the [`thumbnail`](http://pillow.readthedocs.io/en/3.1.x/reference/Image.html#PIL.Image.Image.thumbnail) or [`resize`](http://pillow.readthedocs.io/en/3.1.x/reference/Image.html#PIL.Image.Image.thumbnail) methods. Then you'll need to crop out the center 224x224 portion of the image.\n",
    "\n",
    "Color channels of images are typically encoded as integers 0-255, but the model expected floats 0-1. You'll need to convert the values. It's easiest with a Numpy array, which you can get from a PIL image like so `np_image = np.array(pil_image)`.\n",
    "\n",
    "As before, the network expects the images to be normalized in a specific way. For the means, it's `[0.485, 0.456, 0.406]` and for the standard deviations `[0.229, 0.224, 0.225]`. You'll want to subtract the means from each color channel, then divide by the standard deviation. \n",
    "\n",
    "And finally, PyTorch expects the color channel to be the first dimension but it's the third dimension in the PIL image and Numpy array. You can reorder dimensions using [`ndarray.transpose`](https://docs.scipy.org/doc/numpy-1.13.0/reference/generated/numpy.ndarray.transpose.html). The color channel needs to be first and retain the order of the other two dimensions."
   ]
  },
  {
   "cell_type": "code",
   "execution_count": null,
   "metadata": {},
   "outputs": [],
   "source": [
    "from PIL import Image\n",
    "import numpy as np\n",
    "import matplotlib.pyplot as plt\n",
    "\n",
    "### TODO: create process_image which uses same torch \n",
    "### transforms like in validation and testing steps \n",
    "\n",
    "def process_image(image):\n",
    "    ''' \n",
    "    Scales, crops, and normalizes a PIL image for a PyTorch model,\n",
    "    returns a Numpy array.\n",
    "    '''\n",
    "    # Open the image using PIL\n",
    "    img = Image.open(image)\n",
    "\n",
    "    # Resize the image to 256x256 \n",
    "    img.thumbnail((256, 256))\n",
    "\n",
    "    # Crop the center 224x224 portion of the image\n",
    "    left = (img.width - 224) / 2\n",
    "    top = (img.height - 224) / 2\n",
    "    right = (img.width + 224) / 2\n",
    "    bottom = (img.height + 224) / 2\n",
    "    img = img.crop((left, top, right, bottom))\n",
    "    print(\"SIZES: \", img.height,img.width)\n",
    "\n",
    "    # Convert color values from range [0,255] to  the range [0, 1]\n",
    "    np_image = np.array(img) / 255.0\n",
    "\n",
    "    # Normalize the image using mean and standard deviation\n",
    "    mean = np.array([0.485, 0.456, 0.406])\n",
    "    std = np.array([0.229, 0.224, 0.225])\n",
    "    np_image = (np_image - mean) / std\n",
    "\n",
    "    # Reorder dimensions to have color channels as the first dimension\n",
    "    # from rowsxcolumnsxchannels to  channelsxrowsxcolumns\n",
    "    # or can be view as HxWxC to CxHxW \n",
    "    np_image = np_image.transpose((2, 0, 1))\n",
    "\n",
    "    return np_image\n"
   ]
  },
  {
   "cell_type": "markdown",
   "metadata": {},
   "source": [
    "To check your work, the function below converts a PyTorch tensor and displays it in the notebook. If your `process_image` function works, running the output through this function should return the original image (except for the cropped out portions)."
   ]
  },
  {
   "cell_type": "code",
   "execution_count": null,
   "metadata": {},
   "outputs": [],
   "source": [
    "\n",
    "def imshow(image:np.ndarray, ax=None, title=None):\n",
    "    \"\"\"Imshow for numpy image.\"\"\"\n",
    "    if ax is None:\n",
    "        fig, ax = plt.subplots()\n",
    "    \n",
    "    # PyTorch tensors assume the color channel is the first dimension\n",
    "    # but matplotlib assumes is the third dimension\n",
    "    image = image.transpose((1, 2, 0))\n",
    "    \n",
    "    # Undo preprocessing\n",
    "    mean = np.array([0.485, 0.456, 0.406])\n",
    "    std = np.array([0.229, 0.224, 0.225])\n",
    "    image = std * image + mean\n",
    "    \n",
    "    # Image needs to be clipped between 0 and 1 or it looks like noise when displayed\n",
    "    image = np.clip(image, 0, 1)\n",
    "    \n",
    "    ax.imshow(image)\n",
    "    \n",
    "    return ax"
   ]
  },
  {
   "cell_type": "code",
   "execution_count": null,
   "metadata": {},
   "outputs": [],
   "source": [
    "def test_process_image():\n",
    "    img = process_image('sunflowers.webp')\n",
    "    imshow(img)\n",
    "test_process_image()"
   ]
  },
  {
   "cell_type": "markdown",
   "metadata": {},
   "source": [
    "## Class Prediction\n",
    "\n",
    "Once you can get images in the correct format, it's time to write a function for making predictions with your model. A common practice is to predict the top 5 or so (usually called top-$K$) most probable classes. You'll want to calculate the class probabilities then find the $K$ largest values.\n",
    "\n",
    "To get the top $K$ largest values in a tensor use [`x.topk(k)`](http://pytorch.org/docs/master/torch.html#torch.topk). This method returns both the highest `k` probabilities and the indices of those probabilities corresponding to the classes. You need to convert from these indices to the actual class labels using `class_to_idx` which hopefully you added to the model or from an `ImageFolder` you used to load the data ([see here](#Save-the-checkpoint)). Make sure to invert the dictionary so you get a mapping from index to class as well.\n",
    "\n",
    "Again, this method should take a path to an image and a model checkpoint, then return the probabilities and classes.\n",
    "\n",
    "```python\n",
    "probs, classes = predict(image_path, model)\n",
    "print(probs)\n",
    "print(classes)\n",
    "> [ 0.01558163  0.01541934  0.01452626  0.01443549  0.01407339]\n",
    "> ['70', '3', '45', '62', '55']\n",
    "```"
   ]
  },
  {
   "cell_type": "code",
   "execution_count": null,
   "metadata": {},
   "outputs": [],
   "source": [
    "\n",
    "#Use inference mode inside the function\n",
    "@th.inference_mode()\n",
    "def predict(image_path:str, model:th.nn.Module, topk:int=5):\n",
    "    ''' \n",
    "    Predict the class (or classes) of an image using a trained deep learning model.\n",
    "    Args:\n",
    "        image_path\n",
    "            Path of the input image\n",
    "\n",
    "        model\n",
    "            the model to use for prediction\n",
    "        topk:\n",
    "            return the top k classes \n",
    "    \n",
    "    '''\n",
    "    # TODO: Implement the code to predict the class from an image file\n",
    "    \n",
    "    #Model to evaluation mode\n",
    "    model.eval()\n",
    "\n",
    "    # Get the image with correct shape and normalization\n",
    "    preprocessed_image = process_image(image_path).astype(np.float32)\n",
    "    # add batch dimension to get a tensor with shape [Batch_SizexCxHxW]\n",
    "    preprocessed_image = preprocessed_image[None,:,:,:]\n",
    "    # transform to th.Tensor\n",
    "    input_X = th.from_numpy(preprocessed_image)\n",
    "\n",
    "\n",
    "    def infer(X):\n",
    "        \"\"\"\n",
    "        X: input tensor\n",
    "            Run inference on the X input\n",
    "\n",
    "        \"\"\"\n",
    "        outputs = model(X)\n",
    "\n",
    "        # Get the classes predicted by the model\n",
    "        # logits -> classes \n",
    "        #predicted_classes = th.argmax(\n",
    "        #    th.softmax(outputs,dim = 1),\n",
    "        #    dim= 1 )\n",
    "        \n",
    "        # Compute the probabilities over classes\n",
    "        # the model produces log probabilities\n",
    "        # log probabilities -> probabilities\n",
    "        probabilities = torch.exp(outputs)\n",
    "\n",
    "        # get the topk biggest values from probs\n",
    "        #probabilities, location on the array (the classes)\n",
    "        probs, indices = probabilities.topk(k=topk, dim=1) \n",
    "\n",
    "        # If we want to get the class with max probability \n",
    "        # we get top probability, top class (index)\n",
    "        #top_p, top_class = probs.topk(k=1, dim=1)\n",
    "\n",
    "        return probs, indices\n",
    "\n",
    "    return infer(input_X)\n",
    "    \n",
    "\n",
    "\n"
   ]
  },
  {
   "cell_type": "code",
   "execution_count": null,
   "metadata": {},
   "outputs": [],
   "source": [
    "probs, classes = predict(image_path='sunflowers.webp',\n",
    "        model = model,\n",
    "        topk = 10 )\n",
    "print(f\"Probs: {probs}, classes:  {classes}\")"
   ]
  },
  {
   "cell_type": "markdown",
   "metadata": {},
   "source": [
    "## Sanity Checking\n",
    "\n",
    "Now that you can use a trained model for predictions, check to make sure it makes sense. Even if the testing accuracy is high, it's always good to check that there aren't obvious bugs. Use `matplotlib` to plot the probabilities for the top 5 classes as a bar graph, along with the input image. It should look like this:\n",
    "\n",
    "<img src='assets/inference_example.png' width=300px>\n",
    "\n",
    "You can convert from the class integer encoding to actual flower names with the `cat_to_name.json` file (should have been loaded earlier in the notebook). To show a PyTorch tensor as an image, use the `imshow` function defined above."
   ]
  },
  {
   "cell_type": "code",
   "execution_count": null,
   "metadata": {},
   "outputs": [],
   "source": [
    "# TODO: Display an image along with the top 5 classes\n",
    "def plot_classes(image_path:str,model:th.nn.Module)->None:\n",
    "    \"\"\"\n",
    "    Plot the top 10 classes for the image\n",
    "    \n",
    "    Args:\n",
    "        image_path\n",
    "            image path \n",
    "        model:\n",
    "            model to use for prediction\n",
    "        \n",
    "    Returns:  None\n",
    "    \"\"\"\n",
    "    probs, classes = predict(image_path,model)\n",
    "    fig = plt.figure(figsize =(20,20))\n",
    "    ax = fig.add_subplot(121)\n",
    "    ax.imshow(plt.imread(image_path))\n",
    "\n",
    "    ax2 = fig.add_subplot(122)\n",
    "    # Add a barchart showing the classes and their probabilities\n",
    "    top_classes = [cat_to_name[str(j.item())] for j in classes[0]]\n",
    "    ax2.barh(top_classes, probs[0])\n",
    "    #TODO: make the labels for x-axis bigger    \n",
    "    \n",
    "    plt.show()\n",
    "        \n",
    "    \n"
   ]
  },
  {
   "cell_type": "code",
   "execution_count": null,
   "metadata": {},
   "outputs": [],
   "source": [
    "plot_classes('sunflowers.webp', model)"
   ]
  },
  {
   "cell_type": "markdown",
   "metadata": {},
   "source": [
    "## Reminder for Workspace users\n",
    "If your network becomes very large when saved as a checkpoint, there might be issues with saving backups in your workspace. You should reduce the size of your hidden layers and train again. \n",
    "    \n",
    "We strongly encourage you to delete these large interim files and directories before navigating to another page or closing the browser tab."
   ]
  },
  {
   "cell_type": "code",
   "execution_count": null,
   "metadata": {},
   "outputs": [],
   "source": [
    "# TODO remove .pth files or move it to a temporary `~/opt` directory in this Workspace"
   ]
  },
  {
   "cell_type": "code",
   "execution_count": null,
   "metadata": {},
   "outputs": [],
   "source": []
  }
 ],
 "metadata": {
  "kernelspec": {
   "display_name": "Python 3 (ipykernel)",
   "language": "python",
   "name": "python3"
  },
  "language_info": {
   "codemirror_mode": {
    "name": "ipython",
    "version": 3
   },
   "file_extension": ".py",
   "mimetype": "text/x-python",
   "name": "python",
   "nbconvert_exporter": "python",
   "pygments_lexer": "ipython3",
   "version": "3.11.4"
  }
 },
 "nbformat": 4,
 "nbformat_minor": 2
}
